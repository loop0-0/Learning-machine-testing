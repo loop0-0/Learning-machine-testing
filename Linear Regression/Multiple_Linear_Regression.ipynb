{
  "cells": [
    {
      "cell_type": "markdown",
      "metadata": {
        "colab_type": "text",
        "id": "view-in-github"
      },
      "source": [
        "<a href=\"https://colab.research.google.com/github/loop0-0/Learning-machine-testing/blob/main/Linear_Regression.ipynb\" target=\"_parent\"><img src=\"https://colab.research.google.com/assets/colab-badge.svg\" alt=\"Open In Colab\"/></a>"
      ]
    },
    {
      "cell_type": "code",
      "execution_count": null,
      "metadata": {},
      "outputs": [],
      "source": [
        "%%bash\n",
        "wget https://raw.githubusercontent.com/deepchem/deepchem/master/datasets/delaney-processed.csv"
      ]
    },
    {
      "cell_type": "code",
      "execution_count": 1,
      "metadata": {
        "id": "NSjyHbkquumd"
      },
      "outputs": [],
      "source": [
        "import matplotlib.pyplot as plt\n",
        "import pandas as pd\n",
        "import numpy as np"
      ]
    },
    {
      "cell_type": "code",
      "execution_count": 13,
      "metadata": {},
      "outputs": [
        {
          "data": {
            "text/plain": [
              "['Compound ID',\n",
              " 'ESOL predicted log solubility in mols per litre',\n",
              " 'Minimum Degree',\n",
              " 'Molecular Weight',\n",
              " 'Number of H-Bond Donors',\n",
              " 'Number of Rings',\n",
              " 'Number of Rotatable Bonds',\n",
              " 'Polar Surface Area',\n",
              " 'measured log solubility in mols per litre',\n",
              " 'smiles']"
            ]
          },
          "execution_count": 13,
          "metadata": {},
          "output_type": "execute_result"
        }
      ],
      "source": [
        "data =pd.read_csv(\"delaney-processed.csv\")\n",
        "list(data)"
      ]
    },
    {
      "cell_type": "code",
      "execution_count": 31,
      "metadata": {},
      "outputs": [
        {
          "name": "stdout",
          "output_type": "stream",
          "text": [
            "w:  [[ 0.44563143 -0.06049197  0.46760336  0.07283266 -0.15484891  0.30871003\n",
            "  -0.74659782]]\n",
            "0 ------> 15824.367916935018\n",
            "w:  [[ 0.30549271 -0.24939593 -0.01779051  0.08819816 -0.21673251 -0.08778244\n",
            "   0.03084053]]\n",
            "100000 ------> 0.7377388888577138\n",
            "w:  [[ 0.2184232  -0.36742646 -0.01614157  0.07617414 -0.30057294 -0.11260596\n",
            "   0.0312851 ]]\n",
            "200000 ------> 0.707805365406841\n",
            "w:  [[ 0.16295403 -0.4405662  -0.01517198  0.07079782 -0.3468224  -0.1258419\n",
            "   0.03148919]]\n",
            "300000 ------> 0.6968112802700573\n",
            "w:  [[ 0.12751295 -0.4857187  -0.01459604  0.0688616  -0.37246069 -0.13314689\n",
            "   0.03157287]]\n",
            "400000 ------> 0.6927204728897597\n"
          ]
        }
      ],
      "source": [
        "x=data[[ 'Minimum Degree',\n",
        " 'Molecular Weight',\n",
        " 'Number of H-Bond Donors',\n",
        " 'Number of Rings',\n",
        " 'Number of Rotatable Bonds',\n",
        " 'Polar Surface Area']]\n",
        "n= len(x)\n",
        "ones =np.ones(n)\n",
        "xp=np.c_[ones,x]\n",
        "y=data[['measured log solubility in mols per litre']]\n",
        "y=y.values.reshape(1,-1)\n",
        "\n",
        "w =2*np.random.rand(7)-1\n",
        "epochs =500000\n",
        "learning_rate = 0.00001\n",
        "for epoch in range(epochs):\n",
        "    y_predicted = w @ xp.T\n",
        "    error = y -y_predicted\n",
        "    l2 = np.mean(error**2)*0.5\n",
        "    \n",
        "    gradient =-(1/n)*error @ xp\n",
        "    w=w-learning_rate*gradient\n",
        "\n",
        "    if epoch%(epochs/5)==0:\n",
        "        print(\"w: \",w)\n",
        "        print(epoch,\"------>\",l2)\n"
      ]
    }
  ],
  "metadata": {
    "colab": {
      "authorship_tag": "ABX9TyNIL01ASeHHRILE1DYQMvbD",
      "include_colab_link": true,
      "provenance": []
    },
    "kernelspec": {
      "display_name": "Python 3",
      "name": "python3"
    },
    "language_info": {
      "codemirror_mode": {
        "name": "ipython",
        "version": 3
      },
      "file_extension": ".py",
      "mimetype": "text/x-python",
      "name": "python",
      "nbconvert_exporter": "python",
      "pygments_lexer": "ipython3",
      "version": "3.10.6"
    }
  },
  "nbformat": 4,
  "nbformat_minor": 0
}
